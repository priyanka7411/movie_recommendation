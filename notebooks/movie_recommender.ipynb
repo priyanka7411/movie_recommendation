{
 "cells": [
  {
   "cell_type": "code",
   "execution_count": 1,
   "id": "6fad4473",
   "metadata": {},
   "outputs": [],
   "source": [
    "import pandas as pd"
   ]
  },
  {
   "cell_type": "code",
   "execution_count": 3,
   "id": "13250a54",
   "metadata": {},
   "outputs": [],
   "source": [
    "ratings_df = pd.read_csv('/Users/priyankamalavade/Desktop/movie_recommendation_system/ml-latest-small/ratings.csv')\n",
    "movies_df = pd.read_csv('/Users/priyankamalavade/Desktop/movie_recommendation_system/ml-latest-small/movies.csv')"
   ]
  },
  {
   "cell_type": "code",
   "execution_count": 4,
   "id": "9a75b78d",
   "metadata": {},
   "outputs": [
    {
     "name": "stdout",
     "output_type": "stream",
     "text": [
      "Ratings DataFrame:\n",
      "   userId  movieId  rating  timestamp\n",
      "0       1        1     4.0  964982703\n",
      "1       1        3     4.0  964981247\n",
      "2       1        6     4.0  964982224\n",
      "3       1       47     5.0  964983815\n",
      "4       1       50     5.0  964982931\n",
      "\n",
      "Movies DataFrame:\n",
      "   movieId                               title  \\\n",
      "0        1                    Toy Story (1995)   \n",
      "1        2                      Jumanji (1995)   \n",
      "2        3             Grumpier Old Men (1995)   \n",
      "3        4            Waiting to Exhale (1995)   \n",
      "4        5  Father of the Bride Part II (1995)   \n",
      "\n",
      "                                        genres  \n",
      "0  Adventure|Animation|Children|Comedy|Fantasy  \n",
      "1                   Adventure|Children|Fantasy  \n",
      "2                               Comedy|Romance  \n",
      "3                         Comedy|Drama|Romance  \n",
      "4                                       Comedy  \n"
     ]
    }
   ],
   "source": [
    "print(\"Ratings DataFrame:\")\n",
    "print(ratings_df.head())\n",
    "\n",
    "print(\"\\nMovies DataFrame:\")\n",
    "print(movies_df.head())"
   ]
  },
  {
   "cell_type": "markdown",
   "id": "322c248a",
   "metadata": {},
   "source": [
    "# Merging the DataFrames"
   ]
  },
  {
   "cell_type": "code",
   "execution_count": 5,
   "id": "bda8ae5e",
   "metadata": {},
   "outputs": [
    {
     "name": "stdout",
     "output_type": "stream",
     "text": [
      "   userId  movieId  rating  timestamp                        title  \\\n",
      "0       1        1     4.0  964982703             Toy Story (1995)   \n",
      "1       1        3     4.0  964981247      Grumpier Old Men (1995)   \n",
      "2       1        6     4.0  964982224                  Heat (1995)   \n",
      "3       1       47     5.0  964983815  Seven (a.k.a. Se7en) (1995)   \n",
      "4       1       50     5.0  964982931   Usual Suspects, The (1995)   \n",
      "\n",
      "                                        genres  \n",
      "0  Adventure|Animation|Children|Comedy|Fantasy  \n",
      "1                               Comedy|Romance  \n",
      "2                        Action|Crime|Thriller  \n",
      "3                             Mystery|Thriller  \n",
      "4                       Crime|Mystery|Thriller  \n"
     ]
    }
   ],
   "source": [
    "# Merge the dataframes on the 'movieId' column\n",
    "movie_ratings = pd.merge(ratings_df, movies_df, on='movieId')\n",
    "\n",
    "# Display the first few rows of the new, merged dataframe\n",
    "print(movie_ratings.head())"
   ]
  },
  {
   "cell_type": "markdown",
   "id": "23a9a707",
   "metadata": {},
   "source": [
    "### creating a user-item matrix "
   ]
  },
  {
   "cell_type": "markdown",
   "id": "c874f3a8",
   "metadata": {},
   "source": [
    "* What is a User-Item Matrix? \n",
    "* A user-item matrix is a table where:\n",
    "\n",
    "* Rows represent the unique users.\n",
    "\n",
    "* Columns represent the unique movies.\n",
    "\n",
    "* The values at each intersection are the ratings that a user gave to a movie.\n",
    "\n",
    "* If a user has not rated a specific movie, the value is typically NaN (Not a Number) or zero.\n",
    "\n"
   ]
  },
  {
   "cell_type": "code",
   "execution_count": 6,
   "id": "aff5042f",
   "metadata": {},
   "outputs": [
    {
     "name": "stdout",
     "output_type": "stream",
     "text": [
      "title   '71 (2014)  'Hellboy': The Seeds of Creation (2004)  \\\n",
      "userId                                                        \n",
      "1              NaN                                      NaN   \n",
      "2              NaN                                      NaN   \n",
      "3              NaN                                      NaN   \n",
      "4              NaN                                      NaN   \n",
      "5              NaN                                      NaN   \n",
      "\n",
      "title   'Round Midnight (1986)  'Salem's Lot (2004)  \\\n",
      "userId                                                \n",
      "1                          NaN                  NaN   \n",
      "2                          NaN                  NaN   \n",
      "3                          NaN                  NaN   \n",
      "4                          NaN                  NaN   \n",
      "5                          NaN                  NaN   \n",
      "\n",
      "title   'Til There Was You (1997)  'Tis the Season for Love (2015)  \\\n",
      "userId                                                               \n",
      "1                             NaN                              NaN   \n",
      "2                             NaN                              NaN   \n",
      "3                             NaN                              NaN   \n",
      "4                             NaN                              NaN   \n",
      "5                             NaN                              NaN   \n",
      "\n",
      "title   'burbs, The (1989)  'night Mother (1986)  (500) Days of Summer (2009)  \\\n",
      "userId                                                                          \n",
      "1                      NaN                   NaN                          NaN   \n",
      "2                      NaN                   NaN                          NaN   \n",
      "3                      NaN                   NaN                          NaN   \n",
      "4                      NaN                   NaN                          NaN   \n",
      "5                      NaN                   NaN                          NaN   \n",
      "\n",
      "title   *batteries not included (1987)  ...  Zulu (2013)  [REC] (2007)  \\\n",
      "userId                                  ...                              \n",
      "1                                  NaN  ...          NaN           NaN   \n",
      "2                                  NaN  ...          NaN           NaN   \n",
      "3                                  NaN  ...          NaN           NaN   \n",
      "4                                  NaN  ...          NaN           NaN   \n",
      "5                                  NaN  ...          NaN           NaN   \n",
      "\n",
      "title   [REC]² (2009)  [REC]³ 3 Génesis (2012)  \\\n",
      "userId                                           \n",
      "1                 NaN                      NaN   \n",
      "2                 NaN                      NaN   \n",
      "3                 NaN                      NaN   \n",
      "4                 NaN                      NaN   \n",
      "5                 NaN                      NaN   \n",
      "\n",
      "title   anohana: The Flower We Saw That Day - The Movie (2013)  \\\n",
      "userId                                                           \n",
      "1                                                     NaN        \n",
      "2                                                     NaN        \n",
      "3                                                     NaN        \n",
      "4                                                     NaN        \n",
      "5                                                     NaN        \n",
      "\n",
      "title   eXistenZ (1999)  xXx (2002)  xXx: State of the Union (2005)  \\\n",
      "userId                                                                \n",
      "1                   NaN         NaN                             NaN   \n",
      "2                   NaN         NaN                             NaN   \n",
      "3                   NaN         NaN                             NaN   \n",
      "4                   NaN         NaN                             NaN   \n",
      "5                   NaN         NaN                             NaN   \n",
      "\n",
      "title   ¡Three Amigos! (1986)  À nous la liberté (Freedom for Us) (1931)  \n",
      "userId                                                                    \n",
      "1                         4.0                                        NaN  \n",
      "2                         NaN                                        NaN  \n",
      "3                         NaN                                        NaN  \n",
      "4                         NaN                                        NaN  \n",
      "5                         NaN                                        NaN  \n",
      "\n",
      "[5 rows x 9719 columns]\n"
     ]
    }
   ],
   "source": [
    "# Create the user-item matrix using pivot_table\n",
    "user_movie_matrix = movie_ratings.pivot_table(index='userId', columns='title', values='rating')\n",
    "\n",
    "# Display the first few rows of the new matrix\n",
    "print(user_movie_matrix.head())"
   ]
  },
  {
   "cell_type": "markdown",
   "id": "673a487f",
   "metadata": {},
   "source": [
    "# Finding User Similarities"
   ]
  },
  {
   "cell_type": "code",
   "execution_count": 7,
   "id": "e0cc0d50",
   "metadata": {},
   "outputs": [],
   "source": [
    "from sklearn.metrics.pairwise import cosine_similarity"
   ]
  },
  {
   "cell_type": "code",
   "execution_count": 8,
   "id": "a17cc840",
   "metadata": {},
   "outputs": [],
   "source": [
    "# Fill NaN values with 0\n",
    "user_movie_matrix_filled = user_movie_matrix.fillna(0)"
   ]
  },
  {
   "cell_type": "code",
   "execution_count": 9,
   "id": "cca745cd",
   "metadata": {},
   "outputs": [
    {
     "name": "stdout",
     "output_type": "stream",
     "text": [
      "userId       1         2         3         4         5         6         7    \\\n",
      "userId                                                                         \n",
      "1       1.000000  0.027283  0.059720  0.194395  0.129080  0.128152  0.158744   \n",
      "2       0.027283  1.000000  0.000000  0.003726  0.016614  0.025333  0.027585   \n",
      "3       0.059720  0.000000  1.000000  0.002251  0.005020  0.003936  0.000000   \n",
      "4       0.194395  0.003726  0.002251  1.000000  0.128659  0.088491  0.115120   \n",
      "5       0.129080  0.016614  0.005020  0.128659  1.000000  0.300349  0.108342   \n",
      "\n",
      "userId       8         9         10   ...       601       602       603  \\\n",
      "userId                                ...                                 \n",
      "1       0.136968  0.064263  0.016875  ...  0.080554  0.164455  0.221486   \n",
      "2       0.027257  0.000000  0.067445  ...  0.202671  0.016866  0.011997   \n",
      "3       0.004941  0.000000  0.000000  ...  0.005048  0.004892  0.024992   \n",
      "4       0.062969  0.011361  0.031163  ...  0.085938  0.128273  0.307973   \n",
      "5       0.429075  0.000000  0.030611  ...  0.068048  0.418747  0.110148   \n",
      "\n",
      "userId       604       605       606       607       608       609       610  \n",
      "userId                                                                        \n",
      "1       0.070669  0.153625  0.164191  0.269389  0.291097  0.093572  0.145321  \n",
      "2       0.000000  0.000000  0.028429  0.012948  0.046211  0.027565  0.102427  \n",
      "3       0.000000  0.010694  0.012993  0.019247  0.021128  0.000000  0.032119  \n",
      "4       0.052985  0.084584  0.200395  0.131746  0.149858  0.032198  0.107683  \n",
      "5       0.258773  0.148758  0.106435  0.152866  0.135535  0.261232  0.060792  \n",
      "\n",
      "[5 rows x 610 columns]\n"
     ]
    }
   ],
   "source": [
    "# Calculate the cosine similarity between users\n",
    "user_similarity = cosine_similarity(user_movie_matrix_filled)\n",
    "\n",
    "# Convert the similarity matrix into a DataFrame for easier handling\n",
    "user_similarity_df = pd.DataFrame(user_similarity, index=user_movie_matrix.index, columns=user_movie_matrix.index)\n",
    "\n",
    "# Print a small part of the new similarity matrix\n",
    "print(user_similarity_df.head())"
   ]
  },
  {
   "cell_type": "markdown",
   "id": "d7db743c",
   "metadata": {},
   "source": [
    "# Generating Recommendations for a Target User"
   ]
  },
  {
   "cell_type": "code",
   "execution_count": 10,
   "id": "35214f29",
   "metadata": {},
   "outputs": [],
   "source": [
    "# Define the target user and number of similar users (neighbors)\n",
    "target_user_id = 1\n",
    "num_similar_users = 10"
   ]
  },
  {
   "cell_type": "code",
   "execution_count": 11,
   "id": "a53c8c57",
   "metadata": {},
   "outputs": [
    {
     "name": "stdout",
     "output_type": "stream",
     "text": [
      "Top 10 similar users to User 1:\n",
      "userId\n",
      "266    0.357408\n",
      "313    0.351562\n",
      "368    0.345127\n",
      "57     0.345034\n",
      "91     0.334727\n",
      "469    0.330664\n",
      "39     0.329782\n",
      "288    0.329700\n",
      "452    0.328048\n",
      "45     0.327922\n",
      "Name: 1, dtype: float64\n"
     ]
    }
   ],
   "source": [
    "# Find the top N most similar users to the target user\n",
    "# Get the similarity scores for the target user, sort them, and get the top N\n",
    "similar_users = user_similarity_df.loc[target_user_id].sort_values(ascending=False)\n",
    "similar_users = similar_users[1:num_similar_users+1] # Exclude the user themselves (similarity is 1)\n",
    "print(f\"Top {num_similar_users} similar users to User {target_user_id}:\")\n",
    "print(similar_users)\n"
   ]
  },
  {
   "cell_type": "code",
   "execution_count": 12,
   "id": "1743016d",
   "metadata": {},
   "outputs": [],
   "source": [
    "# 3. Get the movies rated by the target user and the similar users\n",
    "# Find movies the target user has already rated to exclude them from recommendations\n",
    "movies_watched_by_user = user_movie_matrix.loc[target_user_id][user_movie_matrix.loc[target_user_id].notna()].index.tolist()\n"
   ]
  },
  {
   "cell_type": "code",
   "execution_count": 13,
   "id": "40aa7147",
   "metadata": {},
   "outputs": [],
   "source": [
    "# Get the ratings of the similar users\n",
    "similar_users_ratings = user_movie_matrix.loc[similar_users.index]\n"
   ]
  },
  {
   "cell_type": "code",
   "execution_count": 14,
   "id": "9f6fd286",
   "metadata": {},
   "outputs": [],
   "source": [
    "# Calculate weighted average for movie recommendations\n",
    "recommendations = {}\n",
    "for movie in similar_users_ratings.columns:\n",
    "    if movie not in movies_watched_by_user:\n",
    "        # Get the ratings for the current movie from all similar users\n",
    "        movie_ratings_from_similar_users = similar_users_ratings[movie]\n",
    "        \n",
    "        # Filter out NaN values (movies not rated by the similar user)\n",
    "        # We need to drop these for accurate weighted average calculation\n",
    "        non_na_ratings = movie_ratings_from_similar_users.dropna()\n",
    "        \n",
    "        if not non_na_ratings.empty:\n",
    "            # Get the similarity scores for the users who rated this movie\n",
    "            relevant_similarities = similar_users.loc[non_na_ratings.index]\n",
    "            \n",
    "            # Calculate the weighted average rating\n",
    "            weighted_average = (non_na_ratings * relevant_similarities).sum() / relevant_similarities.sum()\n",
    "            recommendations[movie] = weighted_average\n"
   ]
  },
  {
   "cell_type": "code",
   "execution_count": 15,
   "id": "5d44ab9b",
   "metadata": {},
   "outputs": [],
   "source": [
    "# Convert the recommendations dictionary to a DataFrame and sort\n",
    "recommendations_df = pd.DataFrame(recommendations.items(), columns=['Title', 'Predicted_Rating'])\n",
    "recommendations_df = recommendations_df.sort_values(by='Predicted_Rating', ascending=False)\n"
   ]
  },
  {
   "cell_type": "code",
   "execution_count": 16,
   "id": "50ea7973",
   "metadata": {},
   "outputs": [
    {
     "name": "stdout",
     "output_type": "stream",
     "text": [
      "\n",
      "Top 10 Movie Recommendations:\n",
      "                                                  Title  Predicted_Rating\n",
      "1669                                     Yojimbo (1961)               5.0\n",
      "1594                                         UHF (1989)               5.0\n",
      "1620                         Waiting for Guffman (1996)               5.0\n",
      "1625  Wallace & Gromit: The Best of Aardman Animatio...               5.0\n",
      "1608                                Verdict, The (1982)               5.0\n",
      "1575                                     Tremors (1990)               5.0\n",
      "1577                     Trial, The (Procès, Le) (1962)               5.0\n",
      "1587               Twin Peaks: Fire Walk with Me (1992)               5.0\n",
      "1562                               Touch of Evil (1958)               5.0\n",
      "1282                    River Runs Through It, A (1992)               5.0\n"
     ]
    }
   ],
   "source": [
    "#Display the top N recommendations\n",
    "print(\"\\nTop 10 Movie Recommendations:\")\n",
    "print(recommendations_df.head(10))"
   ]
  },
  {
   "cell_type": "markdown",
   "id": "351557b3",
   "metadata": {},
   "source": [
    "# Evaluating the Model's Performance"
   ]
  },
  {
   "cell_type": "markdown",
   "id": "d5997bce",
   "metadata": {},
   "source": [
    "* use fillna(0) because a rating of 0 is a placeholder for a movie a user hasn't rated, which is what our model needs to work with."
   ]
  },
  {
   "cell_type": "code",
   "execution_count": 17,
   "id": "9f698d80",
   "metadata": {},
   "outputs": [],
   "source": [
    "from sklearn.model_selection import train_test_split\n",
    "\n",
    "# Split the data into 80% training and 20% testing sets\n",
    "train_df, test_df = train_test_split(movie_ratings, test_size=0.2, random_state=42)\n",
    "\n",
    "# Create user-item matrices for both training and testing sets\n",
    "train_user_movie_matrix = train_df.pivot_table(index='userId', columns='title', values='rating').fillna(0)\n",
    "test_user_movie_matrix = test_df.pivot_table(index='userId', columns='title', values='rating').fillna(0)"
   ]
  },
  {
   "cell_type": "code",
   "execution_count": 18,
   "id": "261779ee",
   "metadata": {},
   "outputs": [],
   "source": [
    "from sklearn.metrics.pairwise import cosine_similarity\n",
    "\n",
    "# Calculate the cosine similarity for the training set\n",
    "train_user_similarity = cosine_similarity(train_user_movie_matrix)\n",
    "train_user_similarity_df = pd.DataFrame(train_user_similarity, \n",
    "                                        index=train_user_movie_matrix.index, \n",
    "                                        columns=train_user_movie_matrix.index)"
   ]
  },
  {
   "cell_type": "code",
   "execution_count": 20,
   "id": "8f1a5b76",
   "metadata": {},
   "outputs": [
    {
     "name": "stdout",
     "output_type": "stream",
     "text": [
      "The Root Mean Square Error (RMSE) of the model is: 0.9691\n"
     ]
    }
   ],
   "source": [
    "# A function to predict a single rating for a user and movie\n",
    "def predict_rating(user_id, movie_title):\n",
    "    # Get the ratings for the movie from all users\n",
    "    movie_ratings = train_user_movie_matrix[movie_title]\n",
    "    \n",
    "    # Get the similarity scores for the target user\n",
    "    user_similarities = train_user_similarity_df[user_id]\n",
    "    \n",
    "    # Find users who rated the movie\n",
    "    users_who_rated = movie_ratings[movie_ratings > 0].index\n",
    "    \n",
    "    # Get the ratings and similarities for those users\n",
    "    ratings = movie_ratings.loc[users_who_rated]\n",
    "    similarities = user_similarities.loc[users_who_rated]\n",
    "    \n",
    "    # Calculate the weighted average of ratings\n",
    "    if similarities.sum() > 0:\n",
    "        predicted_rating = np.dot(ratings, similarities) / similarities.sum()\n",
    "    else:\n",
    "        # Fallback if no similar users have rated the movie\n",
    "        # To avoid the error, get the single mean value using .item() or .mean()\n",
    "        # and handle the case of an empty Series.\n",
    "        if not users_who_rated.empty:\n",
    "            predicted_rating = train_user_movie_matrix.loc[users_who_rated, movie_title].mean()\n",
    "        else:\n",
    "            predicted_rating = np.nan\n",
    "    \n",
    "    # Ensure a single value is always returned\n",
    "    return predicted_rating\n",
    "\n",
    "# Predict ratings for all rows in the test set\n",
    "predicted_ratings = []\n",
    "actual_ratings = []\n",
    "\n",
    "# Iterating through all test set ratings\n",
    "for index, row in test_df.iterrows():\n",
    "    user_id = row['userId']\n",
    "    movie_title = row['title']\n",
    "    \n",
    "    # Check if user and movie are in the training set\n",
    "    if user_id in train_user_movie_matrix.index and movie_title in train_user_movie_matrix.columns:\n",
    "        predicted_ratings.append(predict_rating(user_id, movie_title))\n",
    "        actual_ratings.append(row['rating'])\n",
    "\n",
    "# Handle cases where prediction is not possible\n",
    "# For simplicity, we can just remove them from evaluation\n",
    "valid_predictions = [pred for pred in predicted_ratings if not np.isnan(pred)]\n",
    "valid_actuals = [actual for actual, pred in zip(actual_ratings, predicted_ratings) if not np.isnan(pred)]\n",
    "\n",
    "# Calculate the RMSE\n",
    "rmse = np.sqrt(mean_squared_error(valid_actuals, valid_predictions))\n",
    "\n",
    "# Print the result\n",
    "print(f\"The Root Mean Square Error (RMSE) of the model is: {rmse:.4f}\")"
   ]
  },
  {
   "cell_type": "markdown",
   "id": "fdc2cbb1",
   "metadata": {},
   "source": [
    "On a rating scale of 0.5 to 5.0, an RMSE of 0.9691 means that model's predictions are, on average, off by about 0.97 points. This is a strong indicator that model has learned meaningful patterns from the training data and can make reasonably accurate predictions on unseen data. It's a solid baseline for a recommendation system.\n",
    "\n"
   ]
  }
 ],
 "metadata": {
  "kernelspec": {
   "display_name": "venv",
   "language": "python",
   "name": "python3"
  },
  "language_info": {
   "codemirror_mode": {
    "name": "ipython",
    "version": 3
   },
   "file_extension": ".py",
   "mimetype": "text/x-python",
   "name": "python",
   "nbconvert_exporter": "python",
   "pygments_lexer": "ipython3",
   "version": "3.10.9"
  }
 },
 "nbformat": 4,
 "nbformat_minor": 5
}
